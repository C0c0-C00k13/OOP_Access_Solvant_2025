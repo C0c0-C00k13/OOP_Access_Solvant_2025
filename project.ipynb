{
 "cells": [
  {
   "cell_type": "markdown",
   "metadata": {},
   "source": [
    "# Importation des modules à utiliser"
   ]
  },
  {
   "cell_type": "code",
   "execution_count": 12,
   "metadata": {},
   "outputs": [],
   "source": [
    "import Bio\n",
    "from Bio.PDB import PDBParser\n",
    "from Bio.PDB import Structure\n",
    "from Bio.PDB import Atom\n",
    "\n",
    "from Bio.PDB import NACCESS"
   ]
  },
  {
   "cell_type": "markdown",
   "metadata": {},
   "source": [
    "# Fonction de lecture de séquence depuis PDB"
   ]
  },
  {
   "cell_type": "markdown",
   "metadata": {},
   "source": [
    "## Définition des fonctions"
   ]
  },
  {
   "cell_type": "markdown",
   "metadata": {},
   "source": [
    "### Récupération de résidu"
   ]
  },
  {
   "cell_type": "code",
   "execution_count": 84,
   "metadata": {},
   "outputs": [
    {
     "name": "stdout",
     "output_type": "stream",
     "text": [
      "Nom residu : LYS, Id res :(' ', 29, ' '), Full id : ('2C8Q', 0, 'B', (' ', 29, ' '))\n",
      "Nom residu avec fonction LYS\n"
     ]
    }
   ],
   "source": [
    "def PDBRetrieve_Residus(id_prot, filename):\n",
    "    \"\"\"\n",
    "    Fonction permettant de récupere les résidus d'une protéine\n",
    "    ---\n",
    "    id_prot : str\n",
    "    filename : str\n",
    "    ---\n",
    "    \n",
    "    \"\"\"\n",
    "    pdbparser = Bio.PDB.PDBParser(QUIET=True)\n",
    "    struct = pdbparser.get_structure(id_prot, filename)\n",
    "\n",
    "    # Recuperation des residus\n",
    "    ensemble_res = struct.get_residues()\n",
    "    \n",
    "    list_res = [res for res in ensemble_res]\n",
    "    # Recuperation des residus, exlusion des molecules d'eau\n",
    "    return [res for res in list_res if not res.resname == \"HOH\" ]\n",
    "\n",
    "# if __name__ == \"__main__\": \n",
    "#     # Observation de la classe residu\n",
    "#     protein1 = (\"2C8Q\",\"./Data/insuline.pdb\")\n",
    "#     list_res = PDBRetrieve_Residus(protein1[0],protein1[1])\n",
    "#     r1 = list_res[0]\n",
    "#     print(f\"Nom residu : {r1.resname}, Id res :{r1.id}, Full id : {r1.full_id}\\n\\\n",
    "#     Nom residu avec fonction {r1.get_resname()}\")\n",
    "\n",
    "\n",
    "# Inspiration source\n",
    "# https://stackoverflow.com/questions/10324674/parsing-a-pdb-file-in-python?rq=3"
   ]
  },
  {
   "cell_type": "markdown",
   "metadata": {},
   "source": [
    "### Récupération d'atome"
   ]
  },
  {
   "cell_type": "markdown",
   "metadata": {},
   "source": [
    "#### Depuis un residu"
   ]
  },
  {
   "cell_type": "code",
   "execution_count": 57,
   "metadata": {},
   "outputs": [],
   "source": [
    "def PDBRetrieve_Atoms(id_prot, filename):\n",
    "    \"\"\"\n",
    "    \"\"\"\n",
    "    # Recuperation des residus\n",
    "    list_res = PDBRetrieve_Residus(id_prot, filename)\n",
    "    # Verification\n",
    "    print(f\"PDBRetrieve_Atoms :\\n\\\n",
    "    Nombre de residus : {len(list_res)}\\n\\\n",
    "    Liste des residus:{list_res}\")\n",
    "    # Recuperation des atomes + information par atome/ residu\n",
    "    ensemble_atome = r1.get_atoms()\n",
    "\n",
    "    # Enregistrement des atomes dans une liste\n",
    "    list_atome = [atome for atome in ensemble_atome]\n",
    "    # len(list_atome)\n",
    "    return list_atome"
   ]
  },
  {
   "cell_type": "markdown",
   "metadata": {
    "jp-MarkdownHeadingCollapsed": true
   },
   "source": [
    "#### Depuis PDB "
   ]
  },
  {
   "cell_type": "code",
   "execution_count": 47,
   "metadata": {},
   "outputs": [],
   "source": [
    "def PDB_Direct_Retrieve_Atoms(id_prot, filename):\n",
    "    \"\"\"\n",
    "    \"\"\"\n",
    "    pdbparser = Bio.PDB.PDBParser(QUIET=True)\n",
    "    struct = pdbparser.get_structure(id_prot, filename)\n",
    "\n",
    "    # Recuperation des residus\n",
    "    ensemble_atome = struct.get_atoms()\n",
    "\n",
    "    # Enregistrement des atomes dans une liste\n",
    "    list_atome = [atome for atome in ensemble_atome]\n",
    "    # len(list_atome)\n",
    "    return list_atome"
   ]
  },
  {
   "cell_type": "markdown",
   "metadata": {},
   "source": [
    "## Observation des 2 fonctions "
   ]
  },
  {
   "cell_type": "markdown",
   "metadata": {
    "jp-MarkdownHeadingCollapsed": true
   },
   "source": [
    "### Test : Résidus"
   ]
  },
  {
   "cell_type": "code",
   "execution_count": null,
   "metadata": {},
   "outputs": [],
   "source": [
    "# Observation de la classe residu\n",
    "protein1 = (\"2C8Q\",\"./Data/insuline.pdb\")\n",
    "list_res = PDBRetrieve_Residus(protein1[0],protein1[1])\n",
    "\n",
    "# Verification : tous les residus de la proteine ont ete recuperes\n",
    "print(f\"Nombre total de residu : {len(list_res)}\")\n",
    "print(\"--------\")\n",
    "# Observation des attributs pour 1 seul résidu\n",
    "r1 = list_res[0]\n",
    "print(f\"-- 1 seul residu --\\nNom residu : {r1.resname},\\nId res :{r1.id},\\nFull id : {r1.full_id}\\n\\\n",
    "Nom residu avec fonction {r1.get_resname()}\")\n",
    "print(\"--------\")\n",
    "# Observation des attributs pour tous les résidus\n",
    "for r1 in list_res:\n",
    "    print(f\"-- Tous les residus --\\nNom residu : {r1.resname},\\nId res :{r1.id},\\nFull id : {r1.full_id}\\n\\\n",
    "    Nom residu avec fonction {r1.get_resname()}\")"
   ]
  },
  {
   "cell_type": "markdown",
   "metadata": {},
   "source": [
    "### Test Atomes "
   ]
  },
  {
   "cell_type": "markdown",
   "metadata": {},
   "source": [
    "### Test fonction 1 : depuis residus "
   ]
  },
  {
   "cell_type": "code",
   "execution_count": 67,
   "metadata": {},
   "outputs": [
    {
     "name": "stdout",
     "output_type": "stream",
     "text": [
      "PDBRetrieve_Atoms :\n",
      "    Nombre de residus : 81\n",
      "    Liste des residus:[<Residue GLY het=  resseq=1 icode= >, <Residue ILE het=  resseq=2 icode= >, <Residue VAL het=  resseq=3 icode= >, <Residue GLU het=  resseq=4 icode= >, <Residue GLN het=  resseq=5 icode= >, <Residue CYS het=  resseq=6 icode= >, <Residue CYS het=  resseq=7 icode= >, <Residue THR het=  resseq=8 icode= >, <Residue SER het=  resseq=9 icode= >, <Residue ILE het=  resseq=10 icode= >, <Residue CYS het=  resseq=11 icode= >, <Residue SER het=  resseq=12 icode= >, <Residue LEU het=  resseq=13 icode= >, <Residue TYR het=  resseq=14 icode= >, <Residue GLN het=  resseq=15 icode= >, <Residue LEU het=  resseq=16 icode= >, <Residue GLU het=  resseq=17 icode= >, <Residue ASN het=  resseq=18 icode= >, <Residue TYR het=  resseq=19 icode= >, <Residue CYS het=  resseq=20 icode= >, <Residue ASN het=  resseq=21 icode= >, <Residue HOH het=W resseq=2001 icode= >, <Residue HOH het=W resseq=2002 icode= >, <Residue HOH het=W resseq=2003 icode= >, <Residue HOH het=W resseq=2004 icode= >, <Residue HOH het=W resseq=2005 icode= >, <Residue HOH het=W resseq=2006 icode= >, <Residue HOH het=W resseq=2007 icode= >, <Residue PHE het=  resseq=1 icode= >, <Residue VAL het=  resseq=2 icode= >, <Residue ASN het=  resseq=3 icode= >, <Residue GLN het=  resseq=4 icode= >, <Residue HIS het=  resseq=5 icode= >, <Residue LEU het=  resseq=6 icode= >, <Residue CYS het=  resseq=7 icode= >, <Residue GLY het=  resseq=8 icode= >, <Residue SER het=  resseq=9 icode= >, <Residue HIS het=  resseq=10 icode= >, <Residue LEU het=  resseq=11 icode= >, <Residue VAL het=  resseq=12 icode= >, <Residue GLU het=  resseq=13 icode= >, <Residue ALA het=  resseq=14 icode= >, <Residue LEU het=  resseq=15 icode= >, <Residue TYR het=  resseq=16 icode= >, <Residue LEU het=  resseq=17 icode= >, <Residue VAL het=  resseq=18 icode= >, <Residue CYS het=  resseq=19 icode= >, <Residue GLY het=  resseq=20 icode= >, <Residue GLU het=  resseq=21 icode= >, <Residue ARG het=  resseq=22 icode= >, <Residue GLY het=  resseq=23 icode= >, <Residue PHE het=  resseq=24 icode= >, <Residue PHE het=  resseq=25 icode= >, <Residue TYR het=  resseq=26 icode= >, <Residue THR het=  resseq=27 icode= >, <Residue PRO het=  resseq=28 icode= >, <Residue LYS het=  resseq=29 icode= >, <Residue HOH het=W resseq=2001 icode= >, <Residue HOH het=W resseq=2002 icode= >, <Residue HOH het=W resseq=2003 icode= >, <Residue HOH het=W resseq=2004 icode= >, <Residue HOH het=W resseq=2005 icode= >, <Residue HOH het=W resseq=2006 icode= >, <Residue HOH het=W resseq=2007 icode= >, <Residue HOH het=W resseq=2008 icode= >, <Residue HOH het=W resseq=2009 icode= >, <Residue HOH het=W resseq=2010 icode= >, <Residue HOH het=W resseq=2011 icode= >, <Residue HOH het=W resseq=2012 icode= >, <Residue HOH het=W resseq=2013 icode= >, <Residue HOH het=W resseq=2014 icode= >, <Residue HOH het=W resseq=2015 icode= >, <Residue HOH het=W resseq=2016 icode= >, <Residue HOH het=W resseq=2017 icode= >, <Residue HOH het=W resseq=2018 icode= >, <Residue HOH het=W resseq=2019 icode= >, <Residue HOH het=W resseq=2020 icode= >, <Residue HOH het=W resseq=2021 icode= >, <Residue HOH het=W resseq=2022 icode= >, <Residue HOH het=W resseq=2023 icode= >, <Residue HOH het=W resseq=2024 icode= >]\n",
      "[<Atom O>]\n"
     ]
    }
   ],
   "source": [
    "# Observation des attributs de la classe\n",
    "list_atome = PDBRetrieve_Atoms(protein1[0],protein1[1])\n",
    "print(list_atome)\n",
    "# [print(atome.id,atome.coord) for atome in list_atome]\n",
    "    \n",
    "# a1 = list_atome[0]\n",
    "# print(f\"Coordonnées:{a1.coord};\\nFull name : {a1.fullname};\\nElement:\\\n",
    "# {a1.element}\")"
   ]
  },
  {
   "cell_type": "markdown",
   "metadata": {
    "jp-MarkdownHeadingCollapsed": true
   },
   "source": [
    "### Test Atome 2 : depuis PDB"
   ]
  },
  {
   "cell_type": "code",
   "execution_count": null,
   "metadata": {},
   "outputs": [],
   "source": [
    "# Recuperation de tous les atomes (H20 inclus)\n",
    "list_atome2 = PDB_Direct_Retrieve_Atoms(protein1[0],protein1[1])\n",
    "# Affichage de id + coord : fonctionnnel\n",
    "[[atome.id,atome.coord] for atome in list_atome2]\n",
    "\n",
    "# Verification : tous les atomes de la proteine ont ete recuperes\n",
    "print(len(list_atome2))\n",
    "for a1 in list_atome2:\n",
    "    print(f\"Coordonnées:{a1.coord};\\nFull name : {a1.fullname};\\nElement : {a1.element}\")"
   ]
  },
  {
   "cell_type": "markdown",
   "metadata": {
    "jp-MarkdownHeadingCollapsed": true
   },
   "source": [
    "# Définition de la classe Atome"
   ]
  },
  {
   "cell_type": "code",
   "execution_count": null,
   "metadata": {},
   "outputs": [],
   "source": [
    "# Section 1 : Creation d'objet Atome\n",
    "class Calc_Atom:\n",
    "    \"\"\"Ceci est la classe atome.\n",
    "------\n",
    "Attributes\n",
    "x : float\n",
    "y : float\n",
    "z : float\n",
    "------\n",
    "Methodes\n",
    "\"\"\"\n",
    "    def __init__(self, num_residu, nom_residu, nom_atom,x, y, z):\n",
    "        self.num_residu = num_residu\n",
    "        self.nom_atom = nom_atom\n",
    "        self.nom_residu = nom_residu\n",
    "        self.x = x\n",
    "        self.y = y\n",
    "        self.z = z\n",
    "\n",
    "    def calcul_distance(self, another_atome):\n",
    "        help = \"Methodes pemettant de calculer la distance entre 2 atomes\"\n",
    "        if isinstance(another_atome,Atome):\n",
    "            return pow((pow((self.x - another_atome.x), 2) + pow((self.y - another_atome.y),2) + pow((self.z - another_atome.z),2)), 0.5)\n",
    "\n",
    "    def __str__(self):\n",
    "        \"\"\"Redéfinition du comportement avec print().\"\"\"\n",
    "        return f\"Atome n°{num_atom}: {nom_atom}\\tResidu Number: {num_residu}coords({self.x}, {self.y}, {self.z}) ; mass = {self.taille}\"\n"
   ]
  },
  {
   "cell_type": "code",
   "execution_count": null,
   "metadata": {},
   "outputs": [],
   "source": [
    "\n",
    "atome1 = Calc_Atom()\n",
    "atome2 = Calc_Atom(12.0,15.0,20.0)\n",
    "\n",
    "liste_calc_atomes = [ Calc_Atom(num_residu, num, atome.coord[0],\n",
    "                                a1.coord[1], a1.coord[2])\n",
    "                     for atome in list_atome]\n",
    "\n",
    "\n",
    "# Calcule de la distance entre 2 atomes\n",
    "print(f'Distance de atome 1 à atome 2 :\\n{atome1.calcul_distance(atome2)}')\n",
    "\n",
    "# Utilisation de 'print' sur un abjet de classe Atome\n",
    "# print(atome1)\n",
    "    \n",
    "# Utilisation de 'print' sur un abjet de classe Atome après ajout de la methode __str__\n",
    "print(atome1)"
   ]
  },
  {
   "cell_type": "markdown",
   "metadata": {
    "jp-MarkdownHeadingCollapsed": true
   },
   "source": [
    "# Classe point"
   ]
  },
  {
   "cell_type": "code",
   "execution_count": null,
   "metadata": {},
   "outputs": [],
   "source": [
    "# Classe point\n",
    "class point_atome:\n",
    "\n",
    "    def __init__(atom_center, x_pt, y_pt, z_pt):\n",
    "        "
   ]
  },
  {
   "cell_type": "markdown",
   "metadata": {},
   "source": [
    "## Fonctions liées au point (méthode)"
   ]
  },
  {
   "cell_type": "code",
   "execution_count": null,
   "metadata": {},
   "outputs": [],
   "source": [
    "def assignation_point_atom(atom):\n",
    "    # Récuperer les 92 points qui permettront de lier les points à l'atome correspondant\n",
    "    saff_kuijlaars_points(92)\n",
    "    # Modifier la fonction pour qu'elle renvoie les coordonnées de points\n",
    "\n",
    "def rayon_atom(atom, dict_atom):\n",
    "    # fonction qui retourne le rayon de l'atome \n",
    "    return dict_atom[atom.type]\n",
    "\n",
    "def distance_atome_point(point_atom, atom_test):\n",
    "    # Calcul des distances entre point et atomes test\n",
    "    return rayon_test_atom = rayon_atom(atom, dict_atom) + rayon_VDW\n",
    "\n",
    "def controle_seuil(point_atom, atom_test):\n",
    "    distance = distance_atome_point(point_atom, atom_test)\n",
    "    if distance > 2 * radius_oxygen  : # On considere le diamètre pour inclure tout le solvant\n",
    "        return true\n",
    "    else :\n",
    "        return false\n",
    "\n",
    "\n",
    "def function1(point_atom1, atom2):\n",
    "    # pass...\n",
    "    # Calcul de distance de (point d'atome centre, rayon atom test)\n",
    "    distance_test = distance(rayon_test_atom, point_center_atom)\n",
    "    if radius_sonde <= distance_test :\n",
    "        # Cas : distance supérieure à la taille de la sonde = accès solvant\n",
    "        liste_points_solvant.add(point_atom1)\n",
    "    # radius sonde = radius oxygen\n",
    "    # Comparaison des distances/ seuil\n",
    "    \n",
    "    # Cas distance inferieures  \n",
    "    return [at_test, occluded_zones]"
   ]
  },
  {
   "cell_type": "markdown",
   "metadata": {},
   "source": [
    "# Fonction permettant de générer une spère de N points (algorithme de Saff, Kuilaars)"
   ]
  },
  {
   "cell_type": "code",
   "execution_count": null,
   "metadata": {
    "jupyter": {
     "source_hidden": true
    },
    "scrolled": true
   },
   "outputs": [],
   "source": [
    "# Algo de Saff Kuilaars : génération de sphere-atome à 92 pts\n",
    "import numpy as np\n",
    "import matplotlib.pyplot as plt\n",
    "# mpl_toolkits\n",
    "from mpl_toolkits.mplot3d import Axes3D\n",
    "\n",
    "def saff_kuijlaars_points(N):\n",
    "    \"\"\"\n",
    "    Génère N points quasi-uniformes sur une sphère unitaire\n",
    "    à l'aide de l'algorithme de Saff et Kuijlaars.\n",
    "\n",
    "    Args:\n",
    "        N (int): Nombre de points à générer.\n",
    "\n",
    "    Returns:\n",
    "        points (ndarray): Un tableau (N, 3) avec les coordonnées x, y, z des points.\n",
    "    \"\"\"\n",
    "    points = np.zeros((N, 3))\n",
    "    \n",
    "    for k in range(1, N + 1):\n",
    "        h = -1 + 2 * (k - 1) / (N - 1)  # Hauteur du point\n",
    "        theta = np.arccos(h)            # Colatitude\n",
    "        phi = np.pi * (1 + np.sqrt(5)) * (k - 1)  # Longitude (angle d'or)\n",
    "        \n",
    "        # Coordonnées sphériques vers cartésiennes\n",
    "        x = np.sin(theta) * np.cos(phi)\n",
    "        y = np.sin(theta) * np.sin(phi)\n",
    "        z = np.cos(theta)\n",
    "        \n",
    "        points[k - 1] = np.array([x, y, z])\n",
    "    \n",
    "    return points\n",
    "\n",
    "def plot_sphere(points):\n",
    "    \"\"\"\n",
    "    Affiche les points sur une sphère à l'aide de Matplotlib.\n",
    "    \n",
    "    Args:\n",
    "        points (ndarray): Tableau (N, 3) des coordonnées des points.\n",
    "    \"\"\"\n",
    "    fig = plt.figure()\n",
    "    ax = fig.add_subplot(111, projection='3d')\n",
    "    \n",
    "    # Extraire les coordonnées x, y, z\n",
    "    x = points[:, 0]\n",
    "    y = points[:, 1]\n",
    "    z = points[:, 2]\n",
    "    \n",
    "    # Tracé des points\n",
    "    ax.scatter(x, y, z, color='b', s=20)\n",
    "    \n",
    "    # Configuration des limites pour une sphère unitaire\n",
    "    ax.set_xlim([-1, 1])\n",
    "    ax.set_ylim([-1, 1])\n",
    "    ax.set_zlim([-1, 1])\n",
    "    \n",
    "    plt.show()\n",
    "\n",
    "# Exemple d'utilisation\n",
    "N = 92  # Nombre de points à générer\n",
    "points = saff_kuijlaars_points(N)\n",
    "plot_sphere(points)\n"
   ]
  },
  {
   "cell_type": "markdown",
   "metadata": {},
   "source": [
    "# Calcul avec NAccess"
   ]
  },
  {
   "cell_type": "code",
   "execution_count": null,
   "metadata": {},
   "outputs": [],
   "source": []
  },
  {
   "cell_type": "markdown",
   "metadata": {
    "jp-MarkdownHeadingCollapsed": true
   },
   "source": [
    "# Miscellanous"
   ]
  },
  {
   "cell_type": "code",
   "execution_count": null,
   "metadata": {},
   "outputs": [],
   "source": [
    "print('raise Exception(\"Une erreur\")')\n",
    "# raise Exception(\"Une erreur\")\n",
    "if isinstance(\"a\",int):\n",
    "    print(\"Vrai\")\n",
    "else :\n",
    "    print(\"False\")"
   ]
  }
 ],
 "metadata": {
  "kernelspec": {
   "display_name": "Python 3 (ipykernel)",
   "language": "python",
   "name": "python3"
  },
  "language_info": {
   "codemirror_mode": {
    "name": "ipython",
    "version": 3
   },
   "file_extension": ".py",
   "mimetype": "text/x-python",
   "name": "python",
   "nbconvert_exporter": "python",
   "pygments_lexer": "ipython3",
   "version": "3.12.5"
  },
  "vscode": {
   "interpreter": {
    "hash": "3574e5bb0459db5381e30d735c3e782b4200dcd7dab4d48b9b5f254fa4b6f872"
   }
  }
 },
 "nbformat": 4,
 "nbformat_minor": 4
}
