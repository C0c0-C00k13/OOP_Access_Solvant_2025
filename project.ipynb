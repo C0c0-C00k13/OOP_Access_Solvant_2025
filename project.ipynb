{
 "cells": [
  {
   "cell_type": "markdown",
   "metadata": {
    "jp-MarkdownHeadingCollapsed": true
   },
   "source": [
    "# Importation des modules à utiliser"
   ]
  },
  {
   "cell_type": "code",
   "execution_count": 1,
   "metadata": {},
   "outputs": [],
   "source": [
    "import Bio\n",
    "from Bio.PDB import PDBParser\n",
    "from Bio.PDB import Structure\n",
    "from Bio.PDB import Atom\n",
    "\n",
    "from Bio.PDB import NACCESS"
   ]
  },
  {
   "cell_type": "markdown",
   "metadata": {
    "jp-MarkdownHeadingCollapsed": true
   },
   "source": [
    "# Fonction de lecture de séquence depuis PDB"
   ]
  },
  {
   "cell_type": "markdown",
   "metadata": {},
   "source": [
    "## Définition des fonctions"
   ]
  },
  {
   "cell_type": "markdown",
   "metadata": {},
   "source": [
    "### Récupération de résidu"
   ]
  },
  {
   "cell_type": "code",
   "execution_count": 2,
   "metadata": {
    "jupyter": {
     "source_hidden": true
    }
   },
   "outputs": [],
   "source": [
    "def PDBRetrieve_Residus(id_prot, filename):\n",
    "    \"\"\"\n",
    "    Fonction permettant de récupere les résidus d'une protéine\n",
    "    ---\n",
    "    Args\n",
    "    id_prot : str\n",
    "    filename : str\n",
    "    ---\n",
    "    Returns\n",
    "    list\n",
    "    \"\"\"\n",
    "    pdbparser = Bio.PDB.PDBParser(QUIET=True)\n",
    "    struct = pdbparser.get_structure(id_prot, filename)\n",
    "\n",
    "    # Recuperation des residus\n",
    "    ensemble_res = struct.get_residues()\n",
    "    \n",
    "    list_res = [res for res in ensemble_res]\n",
    "    # Recuperation des residus, exlusion des molecules d'eau\n",
    "    return [res for res in list_res if not res.resname == \"HOH\" ]\n",
    "\n",
    "# if __name__ == \"__main__\": \n",
    "#     # Observation de la classe residu\n",
    "#     protein1 = (\"2C8Q\",\"./Data/insuline.pdb\")\n",
    "#     list_res = PDBRetrieve_Residus(protein1[0],protein1[1])\n",
    "#     r1 = list_res[0]\n",
    "#     print(f\"Nom residu : {r1.resname}, Id res :{r1.id}, Full id : {r1.full_id}\\n\\\n",
    "#     Nom residu avec fonction {r1.get_resname()}\")\n",
    "\n",
    "\n",
    "# Inspiration source\n",
    "# https://stackoverflow.com/questions/10324674/parsing-a-pdb-file-in-python?rq=3"
   ]
  },
  {
   "cell_type": "markdown",
   "metadata": {
    "jp-MarkdownHeadingCollapsed": true
   },
   "source": [
    "### Récupération d'atome"
   ]
  },
  {
   "cell_type": "markdown",
   "metadata": {
    "jp-MarkdownHeadingCollapsed": true
   },
   "source": [
    "#### Depuis un residu"
   ]
  },
  {
   "cell_type": "code",
   "execution_count": 3,
   "metadata": {},
   "outputs": [],
   "source": [
    "def PDBRetrieve_Atoms(id_prot, filename):\n",
    "    \"\"\"\n",
    "    \"\"\"\n",
    "    # Recuperation des residus\n",
    "    # print(\"Get residues\")\n",
    "    list_res = PDBRetrieve_Residus(id_prot, filename)\n",
    "    # Recuperation des atomes + information par atome/ residu\n",
    "    # print(\"Get atom generator\")\n",
    "    ensemble_atome = [res.get_atoms() for res in list_res]\n",
    "    # print(f\"Liste de generateur : {ensemble_atome}\") # Visible\n",
    "    # Enregistrement des atomes dans une liste\n",
    "    list_atome = [[at for at in atome] for atome in ensemble_atome]\n",
    "    # print(f\"Nombre total d'atome : {len(list_atome)};\\nListe d'atome : {list_atome}\")\n",
    "    return list_atome"
   ]
  },
  {
   "cell_type": "markdown",
   "metadata": {
    "jp-MarkdownHeadingCollapsed": true
   },
   "source": [
    "#### Depuis PDB "
   ]
  },
  {
   "cell_type": "code",
   "execution_count": 47,
   "metadata": {},
   "outputs": [],
   "source": [
    "def PDB_Direct_Retrieve_Atoms(id_prot, filename):\n",
    "    \"\"\"\n",
    "    \"\"\"\n",
    "    pdbparser = Bio.PDB.PDBParser(QUIET=True)\n",
    "    struct = pdbparser.get_structure(id_prot, filename)\n",
    "\n",
    "    # Recuperation des residus\n",
    "    ensemble_atome = struct.get_atoms()\n",
    "\n",
    "    # Enregistrement des atomes dans une liste\n",
    "    list_atome = [atome for atome in ensemble_atome]\n",
    "    # len(list_atome)\n",
    "    return list_atome"
   ]
  },
  {
   "cell_type": "markdown",
   "metadata": {
    "jp-MarkdownHeadingCollapsed": true
   },
   "source": [
    "## Observation des 2 fonctions "
   ]
  },
  {
   "cell_type": "markdown",
   "metadata": {
    "jp-MarkdownHeadingCollapsed": true
   },
   "source": [
    "### Test : Résidus"
   ]
  },
  {
   "cell_type": "code",
   "execution_count": null,
   "metadata": {},
   "outputs": [],
   "source": [
    "# Observation de la classe residu\n",
    "protein1 = (\"2C8Q\",\"./Data/insuline.pdb\")\n",
    "list_res = PDBRetrieve_Residus(protein1[0],protein1[1])\n",
    "\n",
    "# Verification : tous les residus de la proteine ont ete recuperes\n",
    "print(f\"Nombre total de residu : {len(list_res)}\")\n",
    "print(\"--------\")\n",
    "# Observation des attributs pour 1 seul résidu\n",
    "r1 = list_res[0]\n",
    "print(f\"-- 1 seul residu --\\nNom residu : {r1.resname},\\nId res :{r1.id},\\nFull id : {r1.full_id}\\n\\\n",
    "Nom residu avec fonction {r1.get_resname()}\")\n",
    "print(\"--------\")\n",
    "# Observation des attributs pour tous les résidus\n",
    "for r1 in list_res:\n",
    "    print(f\"-- Tous les residus --\\nNom residu : {r1.resname},\\nId res :{r1.id},\\nFull id : {r1.full_id}\\n\\\n",
    "    Nom residu avec fonction {r1.get_resname()}\")"
   ]
  },
  {
   "cell_type": "markdown",
   "metadata": {},
   "source": [
    "### Test Atomes "
   ]
  },
  {
   "cell_type": "markdown",
   "metadata": {
    "jp-MarkdownHeadingCollapsed": true
   },
   "source": [
    "#### Test fonction 1 : depuis residus "
   ]
  },
  {
   "cell_type": "code",
   "execution_count": 36,
   "metadata": {},
   "outputs": [
    {
     "name": "stdout",
     "output_type": "stream",
     "text": [
      "[[<Atom N>, <Atom CA>, <Atom C>, <Atom O>], [<Atom N>, <Atom CA>, <Atom C>, <Atom O>, <Atom CB>, <Atom CG1>, <Atom CG2>, <Atom CD1>], [<Atom N>, <Atom CA>, <Atom C>, <Atom O>, <Atom CB>, <Atom CG1>, <Atom CG2>], [<Atom N>, <Atom CA>, <Atom C>, <Atom O>, <Atom CB>, <Atom CG>, <Atom CD>, <Atom OE1>, <Atom OE2>], [<Atom N>, <Atom CA>, <Atom C>, <Atom O>, <Atom CB>, <Atom CG>, <Atom CD>, <Atom OE1>, <Atom NE2>], [<Atom N>, <Atom CA>, <Atom C>, <Atom O>, <Atom CB>, <Atom SG>], [<Atom N>, <Atom CA>, <Atom C>, <Atom O>, <Atom CB>, <Atom SG>], [<Atom N>, <Atom CA>, <Atom C>, <Atom O>, <Atom CB>, <Atom OG1>, <Atom CG2>], [<Atom N>, <Atom CA>, <Atom C>, <Atom O>, <Atom CB>, <Atom OG>], [<Atom N>, <Atom CA>, <Atom C>, <Atom O>, <Atom CB>, <Atom CG1>, <Atom CG2>, <Atom CD1>], [<Atom N>, <Atom CA>, <Atom C>, <Atom O>, <Atom CB>, <Atom SG>], [<Atom N>, <Atom CA>, <Atom C>, <Atom O>, <Atom CB>, <Atom OG>], [<Atom N>, <Atom CA>, <Atom C>, <Atom O>, <Atom CB>, <Atom CG>, <Atom CD1>, <Atom CD2>], [<Atom N>, <Atom CA>, <Atom C>, <Atom O>, <Atom CB>, <Atom CG>, <Atom CD1>, <Atom CD2>, <Atom CE1>, <Atom CE2>, <Atom CZ>, <Atom OH>], [<Atom N>, <Atom CA>, <Atom C>, <Atom O>, <Atom CB>, <Atom CG>, <Atom CD>, <Atom OE1>, <Atom NE2>], [<Atom N>, <Atom CA>, <Atom C>, <Atom O>, <Atom CB>, <Atom CG>, <Atom CD1>, <Atom CD2>], [<Atom N>, <Atom CA>, <Atom C>, <Atom O>, <Atom CB>, <Atom CG>, <Atom CD>, <Atom OE1>, <Atom OE2>], [<Atom N>, <Atom CA>, <Atom C>, <Atom O>, <Atom CB>, <Atom CG>, <Atom OD1>, <Atom ND2>], [<Atom N>, <Atom CA>, <Atom C>, <Atom O>, <Atom CB>, <Atom CG>, <Atom CD1>, <Atom CD2>, <Atom CE1>, <Atom CE2>, <Atom CZ>, <Atom OH>], [<Atom N>, <Atom CA>, <Atom C>, <Atom O>, <Atom CB>, <Atom SG>], [<Atom N>, <Atom CA>, <Atom C>, <Atom O>, <Atom CB>, <Atom CG>, <Atom OD1>, <Atom ND2>], [<Atom N>, <Atom CA>, <Atom C>, <Atom O>, <Atom CB>, <Atom CG>, <Atom CD1>, <Atom CD2>, <Atom CE1>, <Atom CE2>, <Atom CZ>], [<Atom N>, <Atom CA>, <Atom C>, <Atom O>, <Atom CB>, <Atom CG1>, <Atom CG2>], [<Atom N>, <Atom CA>, <Atom C>, <Atom O>, <Atom CB>, <Atom CG>, <Atom OD1>, <Atom ND2>], [<Atom N>, <Atom CA>, <Atom C>, <Atom O>, <Atom CB>, <Atom CG>, <Atom CD>, <Atom OE1>, <Atom NE2>], [<Atom N>, <Atom CA>, <Atom C>, <Atom O>, <Atom CB>, <Atom CG>, <Atom ND1>, <Atom CD2>, <Atom CE1>, <Atom NE2>], [<Atom N>, <Atom CA>, <Atom C>, <Atom O>, <Atom CB>, <Atom CG>, <Atom CD1>, <Atom CD2>], [<Atom N>, <Atom CA>, <Atom C>, <Atom O>, <Atom CB>, <Atom SG>], [<Atom N>, <Atom CA>, <Atom C>, <Atom O>], [<Atom N>, <Atom CA>, <Atom C>, <Atom O>, <Atom CB>, <Atom OG>], [<Atom N>, <Atom CA>, <Atom C>, <Atom O>, <Atom CB>, <Atom CG>, <Atom ND1>, <Atom CD2>, <Atom CE1>, <Atom NE2>], [<Atom N>, <Atom CA>, <Atom C>, <Atom O>, <Atom CB>, <Atom CG>, <Atom CD1>, <Atom CD2>], [<Atom N>, <Atom CA>, <Atom C>, <Atom O>, <Atom CB>, <Atom CG1>, <Atom CG2>], [<Atom N>, <Atom CA>, <Atom C>, <Atom O>, <Atom CB>, <Atom CG>, <Atom CD>, <Atom OE1>, <Atom OE2>], [<Atom N>, <Atom CA>, <Atom C>, <Atom O>, <Atom CB>], [<Atom N>, <Atom CA>, <Atom C>, <Atom O>, <Atom CB>, <Atom CG>, <Atom CD1>, <Atom CD2>], [<Atom N>, <Atom CA>, <Atom C>, <Atom O>, <Atom CB>, <Atom CG>, <Atom CD1>, <Atom CD2>, <Atom CE1>, <Atom CE2>, <Atom CZ>, <Atom OH>], [<Atom N>, <Atom CA>, <Atom C>, <Atom O>, <Atom CB>, <Atom CG>, <Atom CD1>, <Atom CD2>], [<Atom N>, <Atom CA>, <Atom C>, <Atom O>, <Atom CB>, <Atom CG1>, <Atom CG2>], [<Atom N>, <Atom CA>, <Atom C>, <Atom O>, <Atom CB>, <Atom SG>], [<Atom N>, <Atom CA>, <Atom C>, <Atom O>], [<Atom N>, <Atom CA>, <Atom C>, <Atom O>, <Atom CB>, <Atom CG>, <Atom CD>, <Atom OE1>, <Atom OE2>], [<Atom N>, <Atom CA>, <Atom C>, <Atom O>, <Atom CB>, <Atom CG>, <Atom CD>, <Atom NE>, <Atom CZ>, <Atom NH1>, <Atom NH2>], [<Atom N>, <Atom CA>, <Atom C>, <Atom O>], [<Atom N>, <Atom CA>, <Atom C>, <Atom O>, <Atom CB>, <Atom CG>, <Atom CD1>, <Atom CD2>, <Atom CE1>, <Atom CE2>, <Atom CZ>], [<Atom N>, <Atom CA>, <Atom C>, <Atom O>, <Atom CB>, <Atom CG>, <Atom CD1>, <Atom CD2>, <Atom CE1>, <Atom CE2>, <Atom CZ>], [<Atom N>, <Atom CA>, <Atom C>, <Atom O>, <Atom CB>, <Atom CG>, <Atom CD1>, <Atom CD2>, <Atom CE1>, <Atom CE2>, <Atom CZ>, <Atom OH>], [<Atom N>, <Atom CA>, <Atom C>, <Atom O>, <Atom CB>, <Atom OG1>, <Atom CG2>], [<Atom N>, <Atom CA>, <Atom C>, <Atom O>, <Atom CB>, <Atom CG>, <Atom CD>], [<Atom N>, <Atom CA>, <Atom C>, <Atom O>, <Atom CB>, <Atom CG>, <Atom CD>, <Atom CE>, <Atom NZ>]]\n"
     ]
    }
   ],
   "source": [
    "# Observation des attributs de la classe\n",
    "protein1 = (\"2C8Q\",\"./Data/insuline.pdb\")\n",
    "list_atome = PDBRetrieve_Atoms(protein1[0],protein1[1])\n",
    "print(list_atome)\n",
    "\n",
    "# Consultation d'information sur les atomes\n",
    "# new_liste_atom = []\n",
    "# for grp_atom in list_atome:\n",
    "#     for atome in grp_atom:\n",
    "#         # print(f\"Coordonnées : {atome.coord}; Full name : {atome.fullname}; Element : {atome.element}\")\n",
    "#         new_atom = [atome.fullname, atome.element, atome.coord]\n",
    "#         new_liste_atom.append(new_atom)\n",
    "# print(new_liste_atom)"
   ]
  },
  {
   "cell_type": "markdown",
   "metadata": {
    "jp-MarkdownHeadingCollapsed": true
   },
   "source": [
    "#### Test Atome 2 : depuis PDB"
   ]
  },
  {
   "cell_type": "code",
   "execution_count": null,
   "metadata": {},
   "outputs": [],
   "source": [
    "# Recuperation de tous les atomes (H20 inclus)\n",
    "list_atome2 = PDB_Direct_Retrieve_Atoms(protein1[0],protein1[1])\n",
    "# Affichage de id + coord : fonctionnnel\n",
    "[[atome.id,atome.coord] for atome in list_atome2]\n",
    "\n",
    "# Verification : tous les atomes de la proteine ont ete recuperes\n",
    "print(len(list_atome2))\n",
    "for a1 in list_atome2:\n",
    "    print(f\"Coordonnées:{a1.coord};\\nFull name : {a1.fullname};\\nElement : {a1.element}\")"
   ]
  },
  {
   "cell_type": "markdown",
   "metadata": {
    "jp-MarkdownHeadingCollapsed": true
   },
   "source": [
    "# Définition de la classe Atome"
   ]
  },
  {
   "cell_type": "code",
   "execution_count": 25,
   "metadata": {},
   "outputs": [],
   "source": [
    "# Section 1 : Creation d'objet Atome\n",
    "class Calc_Atom:\n",
    "    \n",
    "    \"\"\"Ceci est la classe atome.\n",
    "    ------\n",
    "    Attributes\n",
    "    atom_fullname : str\n",
    "    atom_type : str\n",
    "    x : float\n",
    "    y : float\n",
    "    z : float\n",
    "    ------\n",
    "    Methodes\n",
    "    __init___ : intialise un atome.\n",
    "    calcul_distance : renvoie la distance entre un point entre 2 atomes.\n",
    "    __str__ : affiche la valeur des classes.  \n",
    "    \"\"\"\n",
    "    \n",
    "    def __init__(self, atom_fullname, atom_type, coord):\n",
    "        self.atom_fullname = atom_fullname\n",
    "        self.atom_type = atom_type\n",
    "        self.x = coord[0]\n",
    "        self.y = coord[1]\n",
    "        self.z = coord[2]\n",
    "\n",
    "    def calcul_distance(self, another_atome):\n",
    "        help = \"Methodes pemettant de calculer la distance entre 2 atomes\"\n",
    "        if isinstance(another_atome, Calc_Atom):\n",
    "            return pow((pow((self.x - another_atome.x), 2) + pow((self.y - another_atome.y),2) + pow((self.z - another_atome.z),2)), 0.5)\n",
    "\n",
    "    def __str__(self):\n",
    "        \"\"\"Redéfinition du comportement avec print().\"\"\"\n",
    "        return f\"Atome {self.atom_fullname}; type : {self.atom_type}; coords[{self.x},{self.y},{self.z}]\"\n"
   ]
  },
  {
   "cell_type": "markdown",
   "metadata": {},
   "source": [
    "## Exécution de la classe Calc_Atom"
   ]
  },
  {
   "cell_type": "code",
   "execution_count": 27,
   "metadata": {},
   "outputs": [
    {
     "name": "stdout",
     "output_type": "stream",
     "text": [
      "Distance de atome 1 à atome 2 : 1.48983895778656\n",
      "Atome  N  ; type : N; coords[45.32400131225586,26.80699920654297,11.86299991607666]\n"
     ]
    }
   ],
   "source": [
    "\n",
    "new_liste_atom = []\n",
    "for grp_atom in list_atome:\n",
    "    for atome in grp_atom:\n",
    "        # print(f\"Coordonnées : {atome.coord}; Full name : {atome.fullname}; Element : {atome.element}\")\n",
    "        new_atom = Calc_Atom(atome.fullname, atome.element, atome.coord)\n",
    "        new_liste_atom.append(new_atom)\n",
    "new_liste_atom[0]\n",
    "atome1, atome2 = new_liste_atom[0], new_liste_atom[1]\n",
    "\n",
    "# Calcule de la distance entre 2 atomes\n",
    "print(f'Distance de atome 1 à atome 2 : {atome1.calcul_distance(atome2)}')\n",
    "    \n",
    "# Utilisation de 'print' sur un abjet de classe Atome utilisation de la methode __str__\n",
    "print(atome1)"
   ]
  },
  {
   "cell_type": "markdown",
   "metadata": {
    "jp-MarkdownHeadingCollapsed": true
   },
   "source": [
    "# Classe Point"
   ]
  },
  {
   "cell_type": "markdown",
   "metadata": {
    "jp-MarkdownHeadingCollapsed": true
   },
   "source": [
    "## Definition de la classe Point"
   ]
  },
  {
   "cell_type": "code",
   "execution_count": 28,
   "metadata": {},
   "outputs": [],
   "source": [
    "# Classe point\n",
    "class point_atome:\n",
    "\n",
    "    def __init__(self, atom_center, x_pt, y_pt, z_pt):\n",
    "        self.atom_center = atom_center \n",
    "        self.x_pt = x_pt\n",
    "        self.y_pt = y_pt\n",
    "        self.z_pt = z_pt\n",
    "\n",
    "    def __str__(self):\n",
    "        return f\"Atome {print(self.atom_center)}; Point coords[{self.x_pt},{self.y_pt},{self.z_pt}]\"\n",
    "\n",
    "    def calcul_distance(self, atome):\n",
    "        help = \"Methodes pemettant de calculer la distance entre 2 atomes\"\n",
    "        if isinstance(atome, Calc_Atom):\n",
    "            return pow((pow((self.x_pt - atome.x), 2) + pow((self.y_pt - atome.y),2) + pow((self.z_pt - atome.z),2)), 0.5)"
   ]
  },
  {
   "cell_type": "markdown",
   "metadata": {
    "jp-MarkdownHeadingCollapsed": true
   },
   "source": [
    "## Test de la classe Point"
   ]
  },
  {
   "cell_type": "code",
   "execution_count": 31,
   "metadata": {},
   "outputs": [
    {
     "name": "stdout",
     "output_type": "stream",
     "text": [
      "Atome  N  ; type : N; coords[45.32400131225586,26.80699920654297,11.86299991607666]\n",
      "Atome None; Point coords[1.5,1.6,0.2]\n"
     ]
    },
    {
     "data": {
      "text/plain": [
       "np.float32(52.456852)"
      ]
     },
     "execution_count": 31,
     "metadata": {},
     "output_type": "execute_result"
    }
   ],
   "source": [
    "point1 = point_atome(atome1,1.5,1.6,0.2)\n",
    "print(point1)\n",
    "point1.calcul_distance(atome2)"
   ]
  },
  {
   "cell_type": "markdown",
   "metadata": {},
   "source": [
    "# Fonction permettant de générer une spère de N points (algorithme de Saff, Kuilaars)"
   ]
  },
  {
   "cell_type": "code",
   "execution_count": 32,
   "metadata": {
    "scrolled": true
   },
   "outputs": [],
   "source": [
    "# Algo de Saff Kuilaars : génération de sphere-atome à 92 pts\n",
    "import numpy as np\n",
    "\n",
    "def saff_kuijlaars_points(N):\n",
    "    \"\"\"\n",
    "    Génère N points quasi-uniformes sur une sphère unitaire\n",
    "    à l'aide de l'algorithme de Saff et Kuijlaars.\n",
    "\n",
    "    Args:\n",
    "        N (int): Nombre de points à générer.\n",
    "\n",
    "    Returns:\n",
    "        points (ndarray): Un tableau (N, 3) avec les coordonnées x, y, z des points.\n",
    "    \"\"\"\n",
    "    points = np.zeros((N, 3))\n",
    "    \n",
    "    for k in range(1, N + 1):\n",
    "        h = -1 + 2 * (k - 1) / (N - 1)  # Hauteur du point\n",
    "        theta = np.arccos(h)            # Colatitude\n",
    "        phi = np.pi * (1 + np.sqrt(5)) * (k - 1)  # Longitude (angle d'or)\n",
    "        \n",
    "        # Coordonnées sphériques vers cartésiennes\n",
    "        x = np.sin(theta) * np.cos(phi)\n",
    "        y = np.sin(theta) * np.sin(phi)\n",
    "        z = np.cos(theta)\n",
    "        \n",
    "        points[k - 1] = np.array([x, y, z])\n",
    "    \n",
    "    return points"
   ]
  },
  {
   "cell_type": "code",
   "execution_count": 50,
   "metadata": {},
   "outputs": [
    {
     "name": "stdout",
     "output_type": "stream",
     "text": [
      "Index\tCoordonnées initial\tCordonnées centrées\n",
      "0\t[ 1.2246468e-16  0.0000000e+00 -1.0000000e+00]\t[45.32400131 26.80699921 10.86299992]\n",
      "1\t[-0.15374276 -0.14084096 -0.97802198]\t[45.17025856 26.66615825 10.88497794]\n",
      "2\t[ 0.02563527  0.29210065 -0.95604396]\t[45.34963658 27.09909985 10.90695596]\n",
      "3\t[ 0.21727388 -0.2833953  -0.93406593]\t[45.54127519 26.52360391 10.92893398]\n",
      "4\t[-0.40372729  0.07141367 -0.91208791]\t[44.92027402 26.87841288 10.950912  ]\n",
      "5\t[ 0.38453807  0.24461164 -0.89010989]\t[45.70853938 27.05161085 10.97289003]\n",
      "6\t[-0.12885034 -0.47931686 -0.86813187]\t[45.19515097 26.32768235 10.99486805]\n",
      "7\t[-0.2456352   0.47295562 -0.84615385]\t[45.07836612 27.27995483 11.01684607]\n",
      "8\t[ 0.5319696  -0.19427444 -0.82417582]\t[45.85597091 26.61272476 11.03882409]\n",
      "9\t[-0.55188824 -0.22781144 -0.8021978 ]\t[44.77211307 26.57918776 11.06080211]\n",
      "10\t[ 0.26511799  0.56654174 -0.78021978]\t[45.5891193  27.37354095 11.08278014]\n",
      "11\t[ 0.19512515 -0.62208971 -0.75824176]\t[45.51912646 26.18490949 11.10475816]\n",
      "12\t[-0.58548384  0.33929985 -0.73626374]\t[44.73851748 27.14629906 11.12673618]\n",
      "13\t[ 0.68353065  0.1502723  -0.71428571]\t[46.00753197 26.9572715  11.1487142 ]\n",
      "14\t[-0.41501479 -0.59031583 -0.69230769]\t[44.90898652 26.21668337 11.17069222]\n",
      "15\t[-0.09536308  0.73591033 -0.67032967]\t[45.22863823 27.54290954 11.19267025]\n",
      "16\t[ 0.58215864 -0.49064392 -0.64835165]\t[45.90615995 26.31635529 11.21464827]\n",
      "17\t[-0.77885731 -0.0322082  -0.62637363]\t[44.545144   26.77479101 11.23662629]\n",
      "18\t[ 0.5647133   0.56196516 -0.6043956 ]\t[45.88871461 27.36896437 11.25860431]\n",
      "19\t[-0.03754855 -0.81202208 -0.58241758]\t[45.28645276 25.99497712 11.28058233]\n",
      "20\t[-0.53063232  0.63587486 -0.56043956]\t[44.79336899 27.44287407 11.30256036]\n",
      "21\t[ 0.83512473 -0.11236485 -0.53846154]\t[46.15912604 26.69463436 11.32453838]\n",
      "22\t[-0.70289864 -0.48905857 -0.51648352]\t[44.62110267 26.31794064 11.3465164 ]\n",
      "23\t[ 0.19076761  0.84798115 -0.49450549]\t[45.51476892 27.65498036 11.36849442]\n",
      "24\t[ 0.43817343 -0.76467106 -0.47252747]\t[45.76217474 26.04232814 11.39047244]\n",
      "25\t[-0.85051788  0.2713384  -0.45054945]\t[44.47348343 27.07833761 11.41245047]\n",
      "26\t[ 0.82019646  0.37895157 -0.42857143]\t[46.14419778 27.18595078 11.43442849]\n",
      "27\t[-0.35270896 -0.84278004 -0.40659341]\t[44.97129235 25.96421917 11.45640651]\n",
      "28\t[-0.31241749  0.86860021 -0.38461538]\t[45.01158382 27.67559941 11.47838453]\n",
      "29\t[ 0.82493489 -0.43356266 -0.36263736]\t[46.1489362  26.37343655 11.50036255]\n",
      "30\t[-0.90913243 -0.23964439 -0.34065934]\t[44.41486888 26.56735482 11.52234058]\n",
      "31\t[ 0.5126395   0.7972722  -0.31868132]\t[45.83664081 27.60427141 11.5443186 ]\n",
      "32\t[ 0.16174911 -0.94117181 -0.2967033 ]\t[45.48575043 25.8658274  11.56629662]\n",
      "33\t[-0.76020218  0.5887433  -0.27472527]\t[44.56379913 27.3957425  11.58827464]\n",
      "34\t[ 0.96422887  0.07988439 -0.25274725]\t[46.28823018 26.8868836  11.61025266]\n",
      "35\t[-0.66074998 -0.71425137 -0.23076923]\t[44.66325133 26.09274784 11.63223069]\n",
      "36\t[ 0.00477076  0.9779486  -0.20879121]\t[45.32877207 27.78494781 11.65420871]\n",
      "37\t[ 0.66005694 -0.72761643 -0.18681319]\t[45.98405825 26.07938277 11.67618673]\n",
      "38\t[-0.9821122   0.09102194 -0.16483516]\t[44.34188911 26.89802114 11.69816475]\n",
      "39\t[ 0.78838939  0.59835944 -0.14285714]\t[46.1123907  27.40535864 11.72014277]\n",
      "40\t[-0.17767114 -0.9766377  -0.12087912]\t[45.14633017 25.8303615  11.7421208 ]\n",
      "41\t[-0.52999437  0.84221407 -0.0989011 ]\t[44.79400694 27.64921328 11.76409882]\n",
      "42\t[ 0.96157956 -0.26352909 -0.07692308]\t[46.28558088 26.54347011 11.78607684]\n",
      "43\t[-0.88834232 -0.45588261 -0.05494505]\t[44.43565899 26.35111659 11.80805486]\n",
      "44\t[ 0.34742787  0.93712702 -0.03296703]\t[45.67142918 27.74412623 11.83003288]\n",
      "45\t[ 0.37701989 -0.92613997 -0.01098901]\t[45.7010212  25.88085924 11.85201091]\n",
      "46\t[-0.90360129  0.42823352  0.01098901]\t[44.42040002 27.23523272 11.87398893]\n",
      "47\t[0.95509332 0.29446548 0.03296703]\t[46.27909464 27.10146469 11.89596695]\n",
      "48\t[-0.50485855 -0.86145161  0.05494505]\t[44.81914276 25.94554759 11.91794497]\n",
      "49\t[-0.2093303   0.97481468  0.07692308]\t[45.11467102 27.78181389 11.93992299]\n",
      "50\t[ 0.81125012 -0.57627408  0.0989011 ]\t[46.13525143 26.23072512 11.96190101]\n",
      "51\t[-0.98504676 -0.12276448  0.12087912]\t[44.33895455 26.68423473 11.98387904]\n",
      "52\t[0.64152142 0.75368568 0.14285714]\t[45.96552273 27.56068489 12.00585706]\n",
      "53\t[ 0.03594472 -0.98566594  0.16483516]\t[45.35994603 25.82133327 12.02783508]\n",
      "54\t[-0.68955681  0.69972297  0.18681319]\t[44.6344445  27.50672218 12.0498131 ]\n",
      "55\t[ 0.97668438 -0.04993853  0.20879121]\t[46.30068569 26.75706068 12.07179112]\n",
      "56\t[-0.75009237 -0.61976367  0.23076923]\t[44.57390895 26.18723554 12.09376915]\n",
      "57\t[0.13369373 0.95825091 0.25274725]\t[45.45769504 27.76525012 12.11574717]\n",
      "58\t[ 0.54529944 -0.79194352  0.27472527]\t[45.86930076 26.01505569 12.13772519]\n",
      "59\t[-0.93065083  0.21414058  0.2967033 ]\t[44.39335048 27.02113979 12.15970321]\n",
      "60\t[0.82469862 0.46724127 0.31868132]\t[46.14869993 27.27424048 12.18168123]\n",
      "61\t[-0.29012177 -0.89430452  0.34065934]\t[45.03387954 25.91269469 12.20365926]\n",
      "62\t[-0.38674091  0.84789481  0.36263736]\t[44.9372604  27.65489402 12.22563728]\n",
      "63\t[ 0.84976517 -0.36051376  0.38461538]\t[46.17376648 26.44648545 12.2476153 ]\n",
      "64\t[-0.86118945 -0.30501563  0.40659341]\t[44.46281186 26.50198358 12.26959332]\n",
      "65\t[0.42423619 0.7977156  0.42857143]\t[45.74823751 27.60471481 12.29157134]\n",
      "66\t[ 0.22333964 -0.86436369  0.45054945]\t[45.54734096 25.94263551 12.31354937]\n",
      "67\t[-0.73896454  0.48025951  0.47252747]\t[44.58503677 27.28725872 12.33552739]\n",
      "68\t[0.85732419 0.14303689 0.49450549]\t[46.1813255  26.95003609 12.35750541]\n",
      "69\t[-0.52760972 -0.67444256  0.51648352]\t[44.79639159 26.13255665 12.37948343]\n",
      "70\t[-0.065476    0.84010241  0.53846154]\t[45.25852531 27.64710162 12.40146145]\n",
      "71\t[ 0.60519827 -0.56536939  0.56043956]\t[45.92919958 26.24162981 12.42343948]\n",
      "72\t[-0.81285107  0.00793091  0.58241758]\t[44.51115024 26.81493012 12.4454175 ]\n",
      "73\t[0.59267274 0.53239551 0.6043956 ]\t[45.91667405 27.33939472 12.46739552]\n",
      "74\t[-0.07572337 -0.77583636  0.62637363]\t[45.24827795 26.03116285 12.48937354]\n",
      "75\t[-0.45731256  0.60869151  0.64835165]\t[44.86668875 27.41569072 12.51135156]\n",
      "76\t[ 0.72942403 -0.13637713  0.67032967]\t[46.05342534 26.67062208 12.53332959]\n",
      "77\t[-0.6126056  -0.38134557  0.69230769]\t[44.71139571 26.42565364 12.55530761]\n",
      "78\t[0.1882705  0.67405499 0.71428571]\t[45.51227182 27.4810542  12.57728563]\n",
      "79\t[ 0.30601944 -0.60354603  0.73626374]\t[45.63002076 26.20345318 12.59926365]\n",
      "80\t[-0.61020139  0.22961642  0.75824176]\t[44.71379992 27.03661562 12.62124167]\n",
      "81\t[0.58048421 0.23301325 0.78021978]\t[45.90448552 27.04001246 12.6432197 ]\n",
      "82\t[-0.2583248  -0.53828151  0.8021978 ]\t[45.06567651 26.2687177  12.66519772]\n",
      "83\t[-0.16421442  0.54200354  0.82417582]\t[45.15978689 27.34900274 12.68717574]\n",
      "84\t[ 0.45847549 -0.27170553  0.84615385]\t[45.7824768  26.53529368 12.70915376]\n",
      "85\t[-0.48577372 -0.1018379   0.86813187]\t[44.8382276  26.70516131 12.73113178]\n",
      "86\t[0.26573792 0.37025362 0.89010989]\t[45.58973923 27.17725282 12.75310981]\n",
      "87\t[ 0.04871927 -0.40708976  0.91208791]\t[45.37272058 26.39990945 12.77508783]\n",
      "88\t[-0.27079834  0.2327855   0.93406593]\t[45.05320297 27.03978471 12.79706585]\n",
      "89\t[0.29307725 0.0092564  0.95604396]\t[45.61707856 26.81625561 12.81904387]\n",
      "90\t[-0.1492201  -0.14562408  0.97802198]\t[45.17478121 26.66137513 12.84102189]\n",
      "91\t[0. 0. 1.]\t[45.32400131 26.80699921 12.86299992]\n"
     ]
    }
   ],
   "source": [
    "# Exemple d'utilisation\n",
    "N = 92  # Nombre de points à générer\n",
    "points = saff_kuijlaars_points(N)\n",
    "points\n",
    "\n",
    "# Test sur 1 atome\n",
    "print(f\"Index\\tCoordonnées initial\\tCordonnées centrées\")\n",
    "for index,coord in enumerate(points):\n",
    "    print(f\"{index}\\t{coord[0:3]}\\t{coord[0:3]+[atome1.x,atome1.y,atome1.z]}\")\n"
   ]
  },
  {
   "cell_type": "markdown",
   "metadata": {},
   "source": [
    "## Fonctions liées au point (méthode)"
   ]
  },
  {
   "cell_type": "code",
   "execution_count": null,
   "metadata": {},
   "outputs": [],
   "source": [
    "def assignation_point_atom(atome):\n",
    "    # Récuperer les 92 points qui permettront de lier les points à l'atome correspondant\n",
    "    points = saff_kuijlaars_points(92)\n",
    "    # Translation des coord des points : centre de la sphere = coord atome\n",
    "    coordonnees = point atome.\n",
    "    \n",
    "def rayon_atom(atom, dict_atom):\n",
    "    # fonction qui retourne le rayon de l'atome \n",
    "    return dict_atom[atom.type]\n",
    "\n",
    "def distance_atome_point(point_atom, atom_test):\n",
    "    # Calcul des distances entre point et atomes test\n",
    "    return rayon_test_atom = rayon_atom(atom, dict_atom) + rayon_VDW\n",
    "\n",
    "def controle_seuil(point_atom, atom_test):\n",
    "    distance = distance_atome_point(point_atom, atom_test)\n",
    "    if distance > 2 * radius_oxygen  : # On considere le diamètre pour inclure tout le solvant\n",
    "        return true\n",
    "    else :\n",
    "        return false\n",
    "\n",
    "\n",
    "def function1(point_atom1, atom2):\n",
    "    # pass...\n",
    "    # Calcul de distance de (point d'atome centre, rayon atom test)\n",
    "    distance_test = distance(rayon_test_atom, point_center_atom)\n",
    "    if radius_sonde <= distance_test :\n",
    "        # Cas : distance supérieure à la taille de la sonde = accès solvant\n",
    "        liste_points_solvant.add(point_atom1)\n",
    "    # radius sonde = radius oxygen\n",
    "    # Comparaison des distances/ seuil\n",
    "    \n",
    "    # Cas distance inferieures  \n",
    "    return [at_test, occluded_zones]"
   ]
  },
  {
   "cell_type": "code",
   "execution_count": null,
   "metadata": {},
   "outputs": [],
   "source": []
  },
  {
   "cell_type": "markdown",
   "metadata": {},
   "source": [
    "# Calcul avec NAccess"
   ]
  },
  {
   "cell_type": "code",
   "execution_count": null,
   "metadata": {},
   "outputs": [],
   "source": []
  },
  {
   "cell_type": "markdown",
   "metadata": {},
   "source": [
    "# Miscellanous"
   ]
  },
  {
   "cell_type": "code",
   "execution_count": null,
   "metadata": {},
   "outputs": [],
   "source": [
    "print('raise Exception(\"Une erreur\")')\n",
    "# raise Exception(\"Une erreur\")\n",
    "if isinstance(\"a\",int):\n",
    "    print(\"Vrai\")\n",
    "else :\n",
    "    print(\"False\")"
   ]
  }
 ],
 "metadata": {
  "kernelspec": {
   "display_name": "Python 3 (ipykernel)",
   "language": "python",
   "name": "python3"
  },
  "language_info": {
   "codemirror_mode": {
    "name": "ipython",
    "version": 3
   },
   "file_extension": ".py",
   "mimetype": "text/x-python",
   "name": "python",
   "nbconvert_exporter": "python",
   "pygments_lexer": "ipython3",
   "version": "3.12.5"
  },
  "vscode": {
   "interpreter": {
    "hash": "3574e5bb0459db5381e30d735c3e782b4200dcd7dab4d48b9b5f254fa4b6f872"
   }
  }
 },
 "nbformat": 4,
 "nbformat_minor": 4
}
